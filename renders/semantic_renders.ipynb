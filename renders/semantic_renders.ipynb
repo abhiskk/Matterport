{
 "cells": [
  {
   "cell_type": "code",
   "execution_count": 1,
   "metadata": {},
   "outputs": [],
   "source": [
    "from PIL import Image\n",
    "import numpy as np\n",
    "import matplotlib.pyplot as plt\n",
    "from scipy.misc import imread\n",
    "import seaborn as sns\n",
    "from collections import defaultdict\n",
    "from tqdm import tqdm\n",
    "import os\n",
    "\n",
    "%matplotlib inline\n",
    "sns.set(style='dark')"
   ]
  },
  {
   "cell_type": "markdown",
   "metadata": {},
   "source": [
    "### Convert PPM to PNG"
   ]
  },
  {
   "cell_type": "code",
   "execution_count": 2,
   "metadata": {},
   "outputs": [],
   "source": [
    "PATH = \"/Users/akadian/Documents/Data/vln-dump/all_levels_out_dir/\"\n",
    "filenames = [p for p in os.listdir(PATH) if p.endswith('.ppm')]"
   ]
  },
  {
   "cell_type": "code",
   "execution_count": 4,
   "metadata": {
    "scrolled": true
   },
   "outputs": [],
   "source": [
    "for filename in tqdm(filenames):\n",
    "    if os.path.exists(os.path.join(\"/Users/akadian/Desktop/levels_semantic_maps_1.5m/{}.png\".format(filename[:-4]))):\n",
    "        continue\n",
    "    path = os.path.join(PATH, filename)\n",
    "    with open(path) as f:\n",
    "        lines = f.readlines()\n",
    "    lines = lines[3:]\n",
    "    lines = [x.strip().split() for x in lines]\n",
    "    lines = [[float(y) for y in x] for x in lines]\n",
    "    data = np.array(lines)\n",
    "    for r in data:\n",
    "        for c in r:\n",
    "            assert int(c) == c\n",
    "    data = data.astype(np.uint8)\n",
    "    assert data.shape[1] % 3 == 0\n",
    "    img_data = np.zeros((data.shape[0], data.shape[1] // 3, 3), dtype=np.uint8)\n",
    "    for i in range(data.shape[0]):\n",
    "        ind = 0\n",
    "        for j in range(0, data.shape[1], 3):\n",
    "            for k in range(3):\n",
    "                img_data[i, ind, k] = data[i, j + k]\n",
    "            ind += 1\n",
    "    img = Image.fromarray(img_data)\n",
    "    p = os.path.join(\"/Users/akadian/Desktop/levels_semantic_maps_1.5m/{}.png\".format(filename[:-4]))\n",
    "    img.save(p, format='PNG')\n",
    "    test_img = Image.open(p)\n",
    "    test_img_data = np.array(test_img)\n",
    "    assert np.array_equal(img_data, test_img_data)"
   ]
  },
  {
   "cell_type": "markdown",
   "metadata": {},
   "source": [
    "---------------------------------------------------------------------------"
   ]
  },
  {
   "cell_type": "markdown",
   "metadata": {},
   "source": [
    "### Color Analysis"
   ]
  },
  {
   "cell_type": "code",
   "execution_count": 17,
   "metadata": {},
   "outputs": [],
   "source": [
    "S = \"\"\"\n",
    "RNRgb(0.5, 0.5, 0.5), RNRgb(1, 0, 0), RNRgb(0, 0, 1), \n",
    "    RNRgb(0, 1, 0), RNRgb(0, 1, 1), RNRgb(1, 0, 1), \n",
    "    RNRgb(1, 0.5, 0), RNRgb(0, 1, 0.5), RNRgb(0.5, 0, 1), \n",
    "    RNRgb(0.5, 1, 0), RNRgb(0, 0.5, 1), RNRgb(1, 0, 0.5), \n",
    "    RNRgb(0.5, 0, 0), RNRgb(0, 0.5, 0), RNRgb(0, 0, 0.5), \n",
    "    RNRgb(0.5, 0.5, 0), RNRgb(0, 0.5, 0.5), RNRgb(0.5, 0, 0.5),\n",
    "    RNRgb(0.7, 0, 0), RNRgb(0, 0.7, 0), RNRgb(0, 0, 0.7), \n",
    "    RNRgb(0.7, 0.7, 0), RNRgb(0, 0.7, 0.7), RNRgb(0.7, 0, 0.7), \n",
    "    RNRgb(0.7, 0.3, 0), RNRgb(0, 0.7, 0.3), RNRgb(0.3, 0, 0.7), \n",
    "    RNRgb(0.3, 0.7, 0), RNRgb(0, 0.3, 0.7), RNRgb(0.7, 0, 0.3), \n",
    "    RNRgb(0.3, 0, 0), RNRgb(0, 0.3, 0), RNRgb(0, 0, 0.3), \n",
    "    RNRgb(0.3, 0.3, 0), RNRgb(0, 0.3, 0.3), RNRgb(0.3, 0, 0.3),\n",
    "    RNRgb(1, 0.3, 0.3), RNRgb(0.3, 1, 0.3), RNRgb(0.3, 0.3, 1), \n",
    "    RNRgb(1, 1, 0.3), RNRgb(0.3, 1, 1), RNRgb(1, 0.3, 1), \n",
    "    RNRgb(1, 0.5, 0.3), RNRgb(0.3, 1, 0.5), RNRgb(0.5, 0.3, 1), \n",
    "    RNRgb(0.5, 1, 0.3), RNRgb(0.3, 0.5, 1), RNRgb(1, 0.3, 0.5), \n",
    "    RNRgb(0.5, 0.3, 0.3), RNRgb(0.3, 0.5, 0.3), RNRgb(0.3, 0.3, 0.5), \n",
    "    RNRgb(0.5, 0.5, 0.3), RNRgb(0.3, 0.5, 0.5), RNRgb(0.5, 0.3, 0.5),\n",
    "    RNRgb(0.3, 0.5, 0.5), RNRgb(0.5, 0.3, 0.5), RNRgb(0.5, 0.5, 0.3), \n",
    "    RNRgb(0.3, 0.3, 0.5), RNRgb(0.5, 0.3, 0.3), RNRgb(0.3, 0.5, 0.3), \n",
    "    RNRgb(0.3, 0.8, 0.5), RNRgb(0.5, 0.3, 0.8), RNRgb(0.8, 0.5, 0.3), \n",
    "    RNRgb(0.8, 0.3, 0.5), RNRgb(0.5, 0.8, 0.3), RNRgb(0.3, 0.5, 0.8), \n",
    "    RNRgb(0.8, 0.5, 0.5), RNRgb(0.5, 0.8, 0.5), RNRgb(0.5, 0.5, 0.8), \n",
    "    RNRgb(0.8, 0.8, 0.5), RNRgb(0.5, 0.8, 0.8), RNRgb(0.8, 0.5, 0.8)\n",
    "\"\"\"\n",
    "\n",
    "A = [x for x in S.strip().split(\"RNRgb\") if x.startswith('(')]\n",
    "\n",
    "B = [a.strip()[1:-2].split(\",\") for a in A]\n",
    "\n",
    "B = [np.array([float(x) for x in y]) for y in B]"
   ]
  },
  {
   "cell_type": "code",
   "execution_count": 18,
   "metadata": {
    "scrolled": true
   },
   "outputs": [
    {
     "name": "stderr",
     "output_type": "stream",
     "text": [
      "100%|██████████| 452/452 [00:07<00:00, 57.07it/s]\n"
     ]
    }
   ],
   "source": [
    "valid_positions = []\n",
    "invalid_positions = []\n",
    "EPS = 1.0\n",
    "\n",
    "for i in tqdm(range(img_data.shape[0]), total=img_data.shape[0]):\n",
    "    for j in range(img_data.shape[1]):\n",
    "        if img_data[i, j, 0] == 0 and img_data[i, j, 1] == 0 and img_data[i, j, 2] == 0:\n",
    "            continue\n",
    "        is_valid = False\n",
    "        for b in B:\n",
    "            b = b * 255.0\n",
    "            t = np.abs(b - img_data[i, j])\n",
    "            if t[0] < EPS and t[1] < EPS and t[2] < EPS:\n",
    "                valid_positions.append((i, j))\n",
    "                is_valid = True\n",
    "                break\n",
    "        if not is_valid:\n",
    "            invalid_positions.append((i, j))"
   ]
  },
  {
   "cell_type": "code",
   "execution_count": 19,
   "metadata": {},
   "outputs": [
    {
     "data": {
      "text/plain": [
       "(252462, 0)"
      ]
     },
     "execution_count": 19,
     "metadata": {},
     "output_type": "execute_result"
    }
   ],
   "source": [
    "len(valid_positions), len(invalid_positions)"
   ]
  },
  {
   "cell_type": "code",
   "execution_count": 20,
   "metadata": {},
   "outputs": [
    {
     "data": {
      "text/plain": [
       "<matplotlib.image.AxesImage at 0x122916828>"
      ]
     },
     "execution_count": 20,
     "metadata": {},
     "output_type": "execute_result"
    },
    {
     "data": {
      "image/png": "[encoded data removed]",
      "text/plain": [
       "<Figure size 432x288 with 1 Axes>"
      ]
     },
     "metadata": {
      "needs_background": "light"
     },
     "output_type": "display_data"
    }
   ],
   "source": [
    "plt.imshow(img_data)"
   ]
  },
  {
   "cell_type": "code",
   "execution_count": 21,
   "metadata": {},
   "outputs": [],
   "source": [
    "new_img_data = np.zeros(img_data.shape)\n",
    "for i in range(new_img_data.shape[0]):\n",
    "    for j in range(new_img_data.shape[1]):\n",
    "        new_img_data[i, j] = img_data[i, j]\n",
    "new_img_data = new_img_data.astype('uint8')\n",
    "for x in invalid_positions:\n",
    "    new_img_data[x] = 255"
   ]
  },
  {
   "cell_type": "code",
   "execution_count": 22,
   "metadata": {},
   "outputs": [],
   "source": [
    "Image.fromarray(img_data).save(\"/Users/akadian/Desktop/temp_1.png\")\n",
    "Image.fromarray(new_img_data).save(\"/Users/akadian/Desktop/temp_2.png\")"
   ]
  },
  {
   "cell_type": "code",
   "execution_count": 119,
   "metadata": {},
   "outputs": [
    {
     "data": {
      "text/plain": [
       "<matplotlib.image.AxesImage at 0x117a3ae10>"
      ]
     },
     "execution_count": 119,
     "metadata": {},
     "output_type": "execute_result"
    },
    {
     "data": {
      "image/png": "[encoded data removed]",
      "text/plain": [
       "<Figure size 432x288 with 1 Axes>"
      ]
     },
     "metadata": {},
     "output_type": "display_data"
    }
   ],
   "source": [
    "plt.imshow(new_img_data)"
   ]
  },
  {
   "cell_type": "code",
   "execution_count": 40,
   "metadata": {},
   "outputs": [],
   "source": [
    "timage = Image.fromarray(img_data)\n",
    "timage.save(\"/Users/akadian/Desktop/timage.png\")"
   ]
  },
  {
   "cell_type": "code",
   "execution_count": 80,
   "metadata": {},
   "outputs": [
    {
     "data": {
      "text/plain": [
       "62"
      ]
     },
     "execution_count": 80,
     "metadata": {},
     "output_type": "execute_result"
    }
   ],
   "source": [
    "len(valid_colors)"
   ]
  },
  {
   "cell_type": "code",
   "execution_count": 81,
   "metadata": {},
   "outputs": [
    {
     "data": {
      "text/plain": [
       "0.42775764755069334"
      ]
     },
     "execution_count": 81,
     "metadata": {},
     "output_type": "execute_result"
    }
   ],
   "source": [
    "count_present / count_total"
   ]
  },
  {
   "cell_type": "code",
   "execution_count": null,
   "metadata": {},
   "outputs": [],
   "source": []
  }
 ],
 "metadata": {
  "kernelspec": {
   "display_name": "Python 3",
   "language": "python",
   "name": "python3"
  },
  "language_info": {
   "codemirror_mode": {
    "name": "ipython",
    "version": 3
   },
   "file_extension": ".py",
   "mimetype": "text/x-python",
   "name": "python",
   "nbconvert_exporter": "python",
   "pygments_lexer": "ipython3",
   "version": "3.6.6"
  }
 },
 "nbformat": 4,
 "nbformat_minor": 2
}
